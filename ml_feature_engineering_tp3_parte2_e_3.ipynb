{
 "cells": [
  {
   "cell_type": "markdown",
   "id": "9a0fc001",
   "metadata": {},
   "source": [
    "# Exercício 5"
   ]
  },
  {
   "cell_type": "code",
   "execution_count": null,
   "id": "51732bef",
   "metadata": {},
   "outputs": [],
   "source": []
  },
  {
   "cell_type": "code",
   "execution_count": 2,
   "id": "47302823",
   "metadata": {},
   "outputs": [
    {
     "ename": "ModuleNotFoundError",
     "evalue": "No module named 'statsmodels'",
     "output_type": "error",
     "traceback": [
      "\u001b[1;31m---------------------------------------------------------------------------\u001b[0m",
      "\u001b[1;31mModuleNotFoundError\u001b[0m                       Traceback (most recent call last)",
      "Cell \u001b[1;32mIn[2], line 3\u001b[0m\n\u001b[0;32m      1\u001b[0m \u001b[38;5;66;03m# Importação\u001b[39;00m\n\u001b[0;32m      2\u001b[0m \u001b[38;5;28;01mimport\u001b[39;00m\u001b[38;5;250m \u001b[39m\u001b[38;5;21;01mpandas\u001b[39;00m\u001b[38;5;250m \u001b[39m\u001b[38;5;28;01mas\u001b[39;00m\u001b[38;5;250m \u001b[39m\u001b[38;5;21;01mpd\u001b[39;00m\n\u001b[1;32m----> 3\u001b[0m \u001b[38;5;28;01mimport\u001b[39;00m\u001b[38;5;250m \u001b[39m\u001b[38;5;21;01mstatsmodels\u001b[39;00m\u001b[38;5;21;01m.\u001b[39;00m\u001b[38;5;21;01mapi\u001b[39;00m\u001b[38;5;250m \u001b[39m\u001b[38;5;28;01mas\u001b[39;00m\u001b[38;5;250m \u001b[39m\u001b[38;5;21;01msm\u001b[39;00m\n",
      "\u001b[1;31mModuleNotFoundError\u001b[0m: No module named 'statsmodels'"
     ]
    }
   ],
   "source": [
    "# Importação\n",
    "import pandas as pd\n",
    "import statsmodels.api as sm"
   ]
  },
  {
   "cell_type": "code",
   "execution_count": 2,
   "id": "5943f9a4",
   "metadata": {},
   "outputs": [],
   "source": [
    "# Criando o dataset\n",
    "dados = {\n",
    "    'Dia': ['D1','D2','D3','D4','D5','D6','D7','D8','D9','D10','D11','D12','D13','D14'],\n",
    "    'Aspecto': ['Sol','Sol','Nuves','Chuva','Chuva','Chuva','Nuvens','Sol','Sol','Chuva','Sol','Nuvens','Nuvens','Chuva'],\n",
    "    'Temperatura': ['Quente','Quente','Quente','Ameno','Fresco','Fresco','Fresco','Ameno','Fresco','Ameno','Ameno','Ameno','Quente','Ameno'],\n",
    "    'Humanidade': ['Elevada','Elevada','Elevada','Elevada','Normal','Normal','Normal','Elevada','Normal','Normal','Normal','Elevada','Normal','Elevada'],\n",
    "    'Vento': ['Fraco','Forte','Fraco','Fraco','Fraco','Forte','Fraco','Fraco','Fraco','Forte','Forte','Forte','Fraco','Forte'],\n",
    "    'Jogar_Tenis': ['Não','Não','Sim','Sim','Sim','Não','Sim','Não','Sim','Sim','Sim','Sim','Sim','Não']\n",
    "}\n",
    "\n",
    "df = pd.DataFrame(dados)"
   ]
  },
  {
   "cell_type": "code",
   "execution_count": 3,
   "id": "a0253c95",
   "metadata": {},
   "outputs": [],
   "source": [
    "# Removendo a coluna Dia\n",
    "df = df.drop('Dia', axis=1)"
   ]
  },
  {
   "cell_type": "code",
   "execution_count": 4,
   "id": "d4a97702",
   "metadata": {},
   "outputs": [
    {
     "name": "stdout",
     "output_type": "stream",
     "text": [
      "   Jogar_Tenis  Aspecto_Chuva  Aspecto_Nuvens  Aspecto_Nuves  Aspecto_Sol  \\\n",
      "0          Não          False           False          False         True   \n",
      "1          Não          False           False          False         True   \n",
      "2          Sim          False           False           True        False   \n",
      "3          Sim           True           False          False        False   \n",
      "4          Sim           True           False          False        False   \n",
      "5          Não           True           False          False        False   \n",
      "6          Sim          False            True          False        False   \n",
      "7          Não          False           False          False         True   \n",
      "8          Sim          False           False          False         True   \n",
      "9          Sim           True           False          False        False   \n",
      "10         Sim          False           False          False         True   \n",
      "11         Sim          False            True          False        False   \n",
      "12         Sim          False            True          False        False   \n",
      "13         Não           True           False          False        False   \n",
      "\n",
      "    Temperatura_Ameno  Temperatura_Fresco  Temperatura_Quente  \\\n",
      "0               False               False                True   \n",
      "1               False               False                True   \n",
      "2               False               False                True   \n",
      "3                True               False               False   \n",
      "4               False                True               False   \n",
      "5               False                True               False   \n",
      "6               False                True               False   \n",
      "7                True               False               False   \n",
      "8               False                True               False   \n",
      "9                True               False               False   \n",
      "10               True               False               False   \n",
      "11               True               False               False   \n",
      "12              False               False                True   \n",
      "13               True               False               False   \n",
      "\n",
      "    Humanidade_Elevada  Humanidade_Normal  Vento_Forte  Vento_Fraco  \n",
      "0                 True              False        False         True  \n",
      "1                 True              False         True        False  \n",
      "2                 True              False        False         True  \n",
      "3                 True              False        False         True  \n",
      "4                False               True        False         True  \n",
      "5                False               True         True        False  \n",
      "6                False               True        False         True  \n",
      "7                 True              False        False         True  \n",
      "8                False               True        False         True  \n",
      "9                False               True         True        False  \n",
      "10               False               True         True        False  \n",
      "11                True              False         True        False  \n",
      "12               False               True        False         True  \n",
      "13                True              False         True        False  \n"
     ]
    }
   ],
   "source": [
    "# Aplicando o One-Hot Encoding nas variáveis categóricas (exceto a variável alvo)\n",
    "df_onehot = pd.get_dummies(df, columns=['Aspecto', 'Temperatura', 'Humanidade', 'Vento'])\n",
    "\n",
    "# Exibindo o resultado\n",
    "print(df_onehot)"
   ]
  },
  {
   "cell_type": "markdown",
   "id": "fdebbffb",
   "metadata": {},
   "source": [
    "# Exercício 6"
   ]
  },
  {
   "cell_type": "code",
   "execution_count": 5,
   "id": "06f1dd7f",
   "metadata": {},
   "outputs": [
    {
     "name": "stdout",
     "output_type": "stream",
     "text": [
      "   Jogar_Tenis  Aspecto_Nuvens  Aspecto_Nuves  Aspecto_Sol  \\\n",
      "0          Não           False          False         True   \n",
      "1          Não           False          False         True   \n",
      "2          Sim           False           True        False   \n",
      "3          Sim           False          False        False   \n",
      "4          Sim           False          False        False   \n",
      "5          Não           False          False        False   \n",
      "6          Sim            True          False        False   \n",
      "7          Não           False          False         True   \n",
      "8          Sim           False          False         True   \n",
      "9          Sim           False          False        False   \n",
      "10         Sim           False          False         True   \n",
      "11         Sim            True          False        False   \n",
      "12         Sim            True          False        False   \n",
      "13         Não           False          False        False   \n",
      "\n",
      "    Temperatura_Fresco  Temperatura_Quente  Humanidade_Normal  Vento_Fraco  \n",
      "0                False                True              False         True  \n",
      "1                False                True              False        False  \n",
      "2                False                True              False         True  \n",
      "3                False               False              False         True  \n",
      "4                 True               False               True         True  \n",
      "5                 True               False               True        False  \n",
      "6                 True               False               True         True  \n",
      "7                False               False              False         True  \n",
      "8                 True               False               True         True  \n",
      "9                False               False               True        False  \n",
      "10               False               False               True        False  \n",
      "11               False               False              False        False  \n",
      "12               False                True               True         True  \n",
      "13               False               False              False        False  \n"
     ]
    }
   ],
   "source": [
    "# Aplicando Dummy Encoding\n",
    "df_dummy = pd.get_dummies(df, columns=['Aspecto', 'Temperatura', 'Humanidade', 'Vento'], drop_first=True)\n",
    "\n",
    "# Exibindo o resultado\n",
    "print(df_dummy)"
   ]
  },
  {
   "cell_type": "markdown",
   "id": "4a6a1be5",
   "metadata": {},
   "source": [
    "# Exercício 7"
   ]
  },
  {
   "cell_type": "code",
   "execution_count": 6,
   "id": "c2579c40",
   "metadata": {},
   "outputs": [
    {
     "ename": "NameError",
     "evalue": "name 'dmatrix' is not defined",
     "output_type": "error",
     "traceback": [
      "\u001b[1;31m---------------------------------------------------------------------------\u001b[0m",
      "\u001b[1;31mNameError\u001b[0m                                 Traceback (most recent call last)",
      "Cell \u001b[1;32mIn[6], line 9\u001b[0m\n\u001b[0;32m      5\u001b[0m df_effect \u001b[38;5;241m=\u001b[39m pd\u001b[38;5;241m.\u001b[39mDataFrame()\n\u001b[0;32m      7\u001b[0m \u001b[38;5;28;01mfor\u001b[39;00m col \u001b[38;5;129;01min\u001b[39;00m [\u001b[38;5;124m'\u001b[39m\u001b[38;5;124mAspecto\u001b[39m\u001b[38;5;124m'\u001b[39m, \u001b[38;5;124m'\u001b[39m\u001b[38;5;124mTemperatura\u001b[39m\u001b[38;5;124m'\u001b[39m, \u001b[38;5;124m'\u001b[39m\u001b[38;5;124mHumanidade\u001b[39m\u001b[38;5;124m'\u001b[39m, \u001b[38;5;124m'\u001b[39m\u001b[38;5;124mVento\u001b[39m\u001b[38;5;124m'\u001b[39m]:\n\u001b[0;32m      8\u001b[0m     \u001b[38;5;66;03m# ~0 para não incluir intercepto; C(col, Sum) aplica Effect Encoding\u001b[39;00m\n\u001b[1;32m----> 9\u001b[0m     matriz \u001b[38;5;241m=\u001b[39m \u001b[43mdmatrix\u001b[49m(\u001b[38;5;124mf\u001b[39m\u001b[38;5;124m\"\u001b[39m\u001b[38;5;124mC(\u001b[39m\u001b[38;5;132;01m{\u001b[39;00mcol\u001b[38;5;132;01m}\u001b[39;00m\u001b[38;5;124m, Sum)\u001b[39m\u001b[38;5;124m\"\u001b[39m, df, return_type\u001b[38;5;241m=\u001b[39m\u001b[38;5;124m'\u001b[39m\u001b[38;5;124mdataframe\u001b[39m\u001b[38;5;124m'\u001b[39m)\n\u001b[0;32m     10\u001b[0m     df_effect \u001b[38;5;241m=\u001b[39m pd\u001b[38;5;241m.\u001b[39mconcat([df_effect, matriz], axis\u001b[38;5;241m=\u001b[39m\u001b[38;5;241m1\u001b[39m)\n\u001b[0;32m     12\u001b[0m \u001b[38;5;66;03m# Adicionando a variável alvo ao final\u001b[39;00m\n",
      "\u001b[1;31mNameError\u001b[0m: name 'dmatrix' is not defined"
     ]
    }
   ],
   "source": [
    "# Convertendo a variável alvo para binário\n",
    "df['Jogar_Tenis'] = df['Jogar_Tenis'].map({'Sim': 1, 'Não': 0})\n",
    "\n",
    "# Aplicando Effect Encoding com patsy para todas as variáveis categóricas\n",
    "df_effect = pd.DataFrame()\n",
    "\n",
    "for col in ['Aspecto', 'Temperatura', 'Humanidade', 'Vento']:\n",
    "    # ~0 para não incluir intercepto; C(col, Sum) aplica Effect Encoding\n",
    "    matriz = dmatrix(f\"C({col}, Sum)\", df, return_type='dataframe')\n",
    "    df_effect = pd.concat([df_effect, matriz], axis=1)\n",
    "\n",
    "# Adicionando a variável alvo ao final\n",
    "df_effect['Jogar_Tenis'] = df['Jogar_Tenis']\n",
    "\n",
    "# Exibindo o resultado\n",
    "print(df_effect)"
   ]
  },
  {
   "cell_type": "markdown",
   "id": "ed838bc7",
   "metadata": {},
   "source": [
    "# Exercício 8"
   ]
  },
  {
   "cell_type": "markdown",
   "id": "7b3791c2",
   "metadata": {},
   "source": [
    "# Exercício 9"
   ]
  },
  {
   "cell_type": "markdown",
   "id": "043907b4",
   "metadata": {},
   "source": [
    "# Exercício 10"
   ]
  }
 ],
 "metadata": {
  "kernelspec": {
   "display_name": "ia_pinguins",
   "language": "python",
   "name": "python3"
  },
  "language_info": {
   "codemirror_mode": {
    "name": "ipython",
    "version": 3
   },
   "file_extension": ".py",
   "mimetype": "text/x-python",
   "name": "python",
   "nbconvert_exporter": "python",
   "pygments_lexer": "ipython3",
   "version": "3.10.16"
  }
 },
 "nbformat": 4,
 "nbformat_minor": 5
}
