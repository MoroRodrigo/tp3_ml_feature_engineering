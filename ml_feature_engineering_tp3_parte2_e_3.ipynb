{
 "cells": [
  {
   "cell_type": "markdown",
   "id": "9a0fc001",
   "metadata": {},
   "source": [
    "# Exercício 5"
   ]
  },
  {
   "cell_type": "code",
   "execution_count": 7,
   "id": "47302823",
   "metadata": {},
   "outputs": [],
   "source": [
    "# Importação\n",
    "import pandas as pd\n",
    "from sklearn.feature_extraction import FeatureHasher"
   ]
  },
  {
   "cell_type": "code",
   "execution_count": 2,
   "id": "5943f9a4",
   "metadata": {},
   "outputs": [],
   "source": [
    "# Criando o dataset\n",
    "dados = {\n",
    "    'Dia': ['D1','D2','D3','D4','D5','D6','D7','D8','D9','D10','D11','D12','D13','D14'],\n",
    "    'Aspecto': ['Sol','Sol','Nuves','Chuva','Chuva','Chuva','Nuvens','Sol','Sol','Chuva','Sol','Nuvens','Nuvens','Chuva'],\n",
    "    'Temperatura': ['Quente','Quente','Quente','Ameno','Fresco','Fresco','Fresco','Ameno','Fresco','Ameno','Ameno','Ameno','Quente','Ameno'],\n",
    "    'Humanidade': ['Elevada','Elevada','Elevada','Elevada','Normal','Normal','Normal','Elevada','Normal','Normal','Normal','Elevada','Normal','Elevada'],\n",
    "    'Vento': ['Fraco','Forte','Fraco','Fraco','Fraco','Forte','Fraco','Fraco','Fraco','Forte','Forte','Forte','Fraco','Forte'],\n",
    "    'Jogar_Tenis': ['Não','Não','Sim','Sim','Sim','Não','Sim','Não','Sim','Sim','Sim','Sim','Sim','Não']\n",
    "}\n",
    "\n",
    "df = pd.DataFrame(dados)"
   ]
  },
  {
   "cell_type": "code",
   "execution_count": 3,
   "id": "a0253c95",
   "metadata": {},
   "outputs": [],
   "source": [
    "# Removendo a coluna Dia\n",
    "df = df.drop('Dia', axis=1)"
   ]
  },
  {
   "cell_type": "code",
   "execution_count": 4,
   "id": "d4a97702",
   "metadata": {},
   "outputs": [
    {
     "name": "stdout",
     "output_type": "stream",
     "text": [
      "   Jogar_Tenis  Aspecto_Chuva  Aspecto_Nuvens  Aspecto_Nuves  Aspecto_Sol  \\\n",
      "0          Não          False           False          False         True   \n",
      "1          Não          False           False          False         True   \n",
      "2          Sim          False           False           True        False   \n",
      "3          Sim           True           False          False        False   \n",
      "4          Sim           True           False          False        False   \n",
      "5          Não           True           False          False        False   \n",
      "6          Sim          False            True          False        False   \n",
      "7          Não          False           False          False         True   \n",
      "8          Sim          False           False          False         True   \n",
      "9          Sim           True           False          False        False   \n",
      "10         Sim          False           False          False         True   \n",
      "11         Sim          False            True          False        False   \n",
      "12         Sim          False            True          False        False   \n",
      "13         Não           True           False          False        False   \n",
      "\n",
      "    Temperatura_Ameno  Temperatura_Fresco  Temperatura_Quente  \\\n",
      "0               False               False                True   \n",
      "1               False               False                True   \n",
      "2               False               False                True   \n",
      "3                True               False               False   \n",
      "4               False                True               False   \n",
      "5               False                True               False   \n",
      "6               False                True               False   \n",
      "7                True               False               False   \n",
      "8               False                True               False   \n",
      "9                True               False               False   \n",
      "10               True               False               False   \n",
      "11               True               False               False   \n",
      "12              False               False                True   \n",
      "13               True               False               False   \n",
      "\n",
      "    Humanidade_Elevada  Humanidade_Normal  Vento_Forte  Vento_Fraco  \n",
      "0                 True              False        False         True  \n",
      "1                 True              False         True        False  \n",
      "2                 True              False        False         True  \n",
      "3                 True              False        False         True  \n",
      "4                False               True        False         True  \n",
      "5                False               True         True        False  \n",
      "6                False               True        False         True  \n",
      "7                 True              False        False         True  \n",
      "8                False               True        False         True  \n",
      "9                False               True         True        False  \n",
      "10               False               True         True        False  \n",
      "11                True              False         True        False  \n",
      "12               False               True        False         True  \n",
      "13                True              False         True        False  \n"
     ]
    }
   ],
   "source": [
    "# Aplicando o One-Hot Encoding nas variáveis categóricas (exceto a variável alvo)\n",
    "df_onehot = pd.get_dummies(df, columns=['Aspecto', 'Temperatura', 'Humanidade', 'Vento'])\n",
    "\n",
    "# Exibindo o resultado\n",
    "print(df_onehot)"
   ]
  },
  {
   "cell_type": "markdown",
   "id": "fdebbffb",
   "metadata": {},
   "source": [
    "# Exercício 6"
   ]
  },
  {
   "cell_type": "code",
   "execution_count": 5,
   "id": "06f1dd7f",
   "metadata": {},
   "outputs": [
    {
     "name": "stdout",
     "output_type": "stream",
     "text": [
      "   Jogar_Tenis  Aspecto_Nuvens  Aspecto_Nuves  Aspecto_Sol  \\\n",
      "0          Não           False          False         True   \n",
      "1          Não           False          False         True   \n",
      "2          Sim           False           True        False   \n",
      "3          Sim           False          False        False   \n",
      "4          Sim           False          False        False   \n",
      "5          Não           False          False        False   \n",
      "6          Sim            True          False        False   \n",
      "7          Não           False          False         True   \n",
      "8          Sim           False          False         True   \n",
      "9          Sim           False          False        False   \n",
      "10         Sim           False          False         True   \n",
      "11         Sim            True          False        False   \n",
      "12         Sim            True          False        False   \n",
      "13         Não           False          False        False   \n",
      "\n",
      "    Temperatura_Fresco  Temperatura_Quente  Humanidade_Normal  Vento_Fraco  \n",
      "0                False                True              False         True  \n",
      "1                False                True              False        False  \n",
      "2                False                True              False         True  \n",
      "3                False               False              False         True  \n",
      "4                 True               False               True         True  \n",
      "5                 True               False               True        False  \n",
      "6                 True               False               True         True  \n",
      "7                False               False              False         True  \n",
      "8                 True               False               True         True  \n",
      "9                False               False               True        False  \n",
      "10               False               False               True        False  \n",
      "11               False               False              False        False  \n",
      "12               False                True               True         True  \n",
      "13               False               False              False        False  \n"
     ]
    }
   ],
   "source": [
    "# Aplicando Dummy Encoding\n",
    "df_dummy = pd.get_dummies(df, columns=['Aspecto', 'Temperatura', 'Humanidade', 'Vento'], drop_first=True)\n",
    "\n",
    "# Exibindo o resultado\n",
    "print(df_dummy)"
   ]
  },
  {
   "cell_type": "markdown",
   "id": "4a6a1be5",
   "metadata": {},
   "source": [
    "# Exercício 7"
   ]
  },
  {
   "cell_type": "code",
   "execution_count": 6,
   "id": "c2579c40",
   "metadata": {},
   "outputs": [
    {
     "data": {
      "text/html": [
       "<div>\n",
       "<style scoped>\n",
       "    .dataframe tbody tr th:only-of-type {\n",
       "        vertical-align: middle;\n",
       "    }\n",
       "\n",
       "    .dataframe tbody tr th {\n",
       "        vertical-align: top;\n",
       "    }\n",
       "\n",
       "    .dataframe thead th {\n",
       "        text-align: right;\n",
       "    }\n",
       "</style>\n",
       "<table border=\"1\" class=\"dataframe\">\n",
       "  <thead>\n",
       "    <tr style=\"text-align: right;\">\n",
       "      <th></th>\n",
       "      <th>Aspecto_Chuva</th>\n",
       "      <th>Aspecto_Nuvens</th>\n",
       "      <th>Aspecto_Nuves</th>\n",
       "      <th>Temperatura_Ameno</th>\n",
       "      <th>Temperatura_Fresco</th>\n",
       "      <th>Humanidade_Elevada</th>\n",
       "      <th>Vento_Forte</th>\n",
       "    </tr>\n",
       "  </thead>\n",
       "  <tbody>\n",
       "    <tr>\n",
       "      <th>0</th>\n",
       "      <td>False</td>\n",
       "      <td>False</td>\n",
       "      <td>False</td>\n",
       "      <td>False</td>\n",
       "      <td>False</td>\n",
       "      <td>True</td>\n",
       "      <td>False</td>\n",
       "    </tr>\n",
       "    <tr>\n",
       "      <th>1</th>\n",
       "      <td>False</td>\n",
       "      <td>False</td>\n",
       "      <td>False</td>\n",
       "      <td>False</td>\n",
       "      <td>False</td>\n",
       "      <td>True</td>\n",
       "      <td>True</td>\n",
       "    </tr>\n",
       "    <tr>\n",
       "      <th>2</th>\n",
       "      <td>False</td>\n",
       "      <td>False</td>\n",
       "      <td>True</td>\n",
       "      <td>False</td>\n",
       "      <td>False</td>\n",
       "      <td>True</td>\n",
       "      <td>False</td>\n",
       "    </tr>\n",
       "    <tr>\n",
       "      <th>3</th>\n",
       "      <td>True</td>\n",
       "      <td>False</td>\n",
       "      <td>False</td>\n",
       "      <td>True</td>\n",
       "      <td>False</td>\n",
       "      <td>True</td>\n",
       "      <td>False</td>\n",
       "    </tr>\n",
       "    <tr>\n",
       "      <th>4</th>\n",
       "      <td>True</td>\n",
       "      <td>False</td>\n",
       "      <td>False</td>\n",
       "      <td>False</td>\n",
       "      <td>True</td>\n",
       "      <td>False</td>\n",
       "      <td>False</td>\n",
       "    </tr>\n",
       "  </tbody>\n",
       "</table>\n",
       "</div>"
      ],
      "text/plain": [
       "   Aspecto_Chuva  Aspecto_Nuvens  Aspecto_Nuves  Temperatura_Ameno  \\\n",
       "0          False           False          False              False   \n",
       "1          False           False          False              False   \n",
       "2          False           False           True              False   \n",
       "3           True           False          False               True   \n",
       "4           True           False          False              False   \n",
       "\n",
       "   Temperatura_Fresco  Humanidade_Elevada  Vento_Forte  \n",
       "0               False                True        False  \n",
       "1               False                True         True  \n",
       "2               False                True        False  \n",
       "3               False                True        False  \n",
       "4                True               False        False  "
      ]
     },
     "execution_count": 6,
     "metadata": {},
     "output_type": "execute_result"
    }
   ],
   "source": [
    "# Separar variável alvo\n",
    "y = df['Jogar_Tenis']\n",
    "X = df.drop('Jogar_Tenis', axis=1)\n",
    "\n",
    "# Função para aplicar Effect Encoding\n",
    "def effect_encode(df, col):\n",
    "    dummies = pd.get_dummies(df[col])\n",
    "    dummies = dummies.iloc[:, :-1]  # Remove a última categoria\n",
    "    dummies = dummies.apply(lambda x: x.replace(0, -1))  # Substitui 0 por -1\n",
    "    dummies.columns = [f'{col}_{cat}' for cat in dummies.columns]\n",
    "    return dummies\n",
    "\n",
    "# Aplicar Effect Encoding às colunas categóricas\n",
    "efeitos = pd.concat([\n",
    "    effect_encode(X, 'Aspecto'),\n",
    "    effect_encode(X, 'Temperatura'),\n",
    "    effect_encode(X, 'Humanidade'),\n",
    "    effect_encode(X, 'Vento')\n",
    "], axis=1)\n",
    "\n",
    "# Exibir resultado\n",
    "efeitos.head()"
   ]
  },
  {
   "cell_type": "markdown",
   "id": "ed838bc7",
   "metadata": {},
   "source": [
    "# Exercício 11"
   ]
  },
  {
   "cell_type": "code",
   "execution_count": 8,
   "id": "8031fb71",
   "metadata": {},
   "outputs": [
    {
     "name": "stdout",
     "output_type": "stream",
     "text": [
      "[[ 0. -1. -1.  0. -2.  0.  0. -1.]\n",
      " [ 0. -1. -1.  0. -1.  0.  1. -1.]\n",
      " [ 0.  0.  1.  0. -2.  0.  0.  0.]\n",
      " [ 0.  0.  0.  0. -1.  0.  0.  0.]\n",
      " [ 0. -1.  1.  0. -1.  0.  0.  2.]\n",
      " [ 0. -2.  1.  0.  0.  0.  1.  1.]\n",
      " [ 0. -1.  1.  0. -1.  1.  0.  1.]\n",
      " [ 0. -1. -1.  0. -1.  0.  0. -2.]\n",
      " [ 0. -1.  0.  0. -1.  0.  0.  1.]\n",
      " [ 0.  0.  1.  0.  0.  0.  1.  1.]\n",
      " [ 0.  0.  0.  0.  0.  0.  1.  0.]\n",
      " [ 0.  0.  0.  0.  0.  1.  1. -1.]\n",
      " [ 0.  0.  1.  0. -2.  1.  0.  1.]\n",
      " [ 0. -1.  0.  0.  0.  0.  1. -1.]]\n"
     ]
    }
   ],
   "source": [
    "# Transformação das colunas categóricas em um dicionário\n",
    "features = df.to_dict(orient='records')\n",
    "\n",
    "# Criar o FeatureHasher\n",
    "hasher = FeatureHasher(n_features=8, input_type='string')\n",
    "\n",
    "# Criando uma lista de strings combinando nome e valor para cada coluna\n",
    "features_hashed = []\n",
    "for item in features:\n",
    "    hashed_features = [f\"{key}={value}\" for key, value in item.items()]\n",
    "    features_hashed.append(hashed_features)\n",
    "\n",
    "# FeatureHasher\n",
    "X_hashed = hasher.transform(features_hashed)\n",
    "\n",
    "# Resultado\n",
    "print(X_hashed.toarray())"
   ]
  },
  {
   "cell_type": "markdown",
   "id": "7b3791c2",
   "metadata": {},
   "source": [
    "# Exercício 12"
   ]
  },
  {
   "cell_type": "code",
   "execution_count": 9,
   "id": "3b17941d",
   "metadata": {},
   "outputs": [
    {
     "name": "stdout",
     "output_type": "stream",
     "text": [
      "   Aspecto  Aspecto_bin_count Temperatura  Temperatura_bin_count Humanidade  \\\n",
      "0      Sol                  5      Quente                      4    Elevada   \n",
      "1      Sol                  5      Quente                      4    Elevada   \n",
      "2    Nuves                  1      Quente                      4    Elevada   \n",
      "3    Chuva                  5       Ameno                      6    Elevada   \n",
      "4    Chuva                  5      Fresco                      4     Normal   \n",
      "5    Chuva                  5      Fresco                      4     Normal   \n",
      "6   Nuvens                  3      Fresco                      4     Normal   \n",
      "7      Sol                  5       Ameno                      6    Elevada   \n",
      "8      Sol                  5      Fresco                      4     Normal   \n",
      "9    Chuva                  5       Ameno                      6     Normal   \n",
      "10     Sol                  5       Ameno                      6     Normal   \n",
      "11  Nuvens                  3       Ameno                      6    Elevada   \n",
      "12  Nuvens                  3      Quente                      4     Normal   \n",
      "13   Chuva                  5       Ameno                      6    Elevada   \n",
      "\n",
      "    Humanidade_bin_count  Vento  Vento_bin_count  \n",
      "0                      7  Fraco                8  \n",
      "1                      7  Forte                6  \n",
      "2                      7  Fraco                8  \n",
      "3                      7  Fraco                8  \n",
      "4                      7  Fraco                8  \n",
      "5                      7  Forte                6  \n",
      "6                      7  Fraco                8  \n",
      "7                      7  Fraco                8  \n",
      "8                      7  Fraco                8  \n",
      "9                      7  Forte                6  \n",
      "10                     7  Forte                6  \n",
      "11                     7  Forte                6  \n",
      "12                     7  Fraco                8  \n",
      "13                     7  Forte                6  \n"
     ]
    }
   ],
   "source": [
    "# Contagem das categorias para cada coluna\n",
    "aspecto_counts = df['Aspecto'].value_counts()\n",
    "temperatura_counts = df['Temperatura'].value_counts()\n",
    "humanidade_counts = df['Humanidade'].value_counts()\n",
    "vento_counts = df['Vento'].value_counts()\n",
    "\n",
    "# Função para mapear a contagem em cada categoria\n",
    "def bin_count_encoding(column, counts):\n",
    "    return column.map(counts)\n",
    "\n",
    "# Aplicando a contagem nos dados\n",
    "df['Aspecto_bin_count'] = bin_count_encoding(df['Aspecto'], aspecto_counts)\n",
    "df['Temperatura_bin_count'] = bin_count_encoding(df['Temperatura'], temperatura_counts)\n",
    "df['Humanidade_bin_count'] = bin_count_encoding(df['Humanidade'], humanidade_counts)\n",
    "df['Vento_bin_count'] = bin_count_encoding(df['Vento'], vento_counts)\n",
    "\n",
    "print(df[['Aspecto', 'Aspecto_bin_count', 'Temperatura', 'Temperatura_bin_count', \n",
    "          'Humanidade', 'Humanidade_bin_count', 'Vento', 'Vento_bin_count']])"
   ]
  }
 ],
 "metadata": {
  "kernelspec": {
   "display_name": "ia_pinguins",
   "language": "python",
   "name": "python3"
  },
  "language_info": {
   "codemirror_mode": {
    "name": "ipython",
    "version": 3
   },
   "file_extension": ".py",
   "mimetype": "text/x-python",
   "name": "python",
   "nbconvert_exporter": "python",
   "pygments_lexer": "ipython3",
   "version": "3.10.16"
  }
 },
 "nbformat": 4,
 "nbformat_minor": 5
}
